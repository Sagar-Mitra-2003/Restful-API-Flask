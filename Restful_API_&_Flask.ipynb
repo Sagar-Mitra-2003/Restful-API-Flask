{
  "nbformat": 4,
  "nbformat_minor": 0,
  "metadata": {
    "colab": {
      "provenance": []
    },
    "kernelspec": {
      "name": "python3",
      "display_name": "Python 3"
    },
    "language_info": {
      "name": "python"
    }
  },
  "cells": [
    {
      "cell_type": "markdown",
      "source": [
        "# Questions Answers"
      ],
      "metadata": {
        "id": "DFuWqqMJ2cjF"
      }
    },
    {
      "cell_type": "markdown",
      "source": [
        "Q-1 : What is a RESTful API?\n",
        "\n",
        ">REST API stands for Representational State Transfer API. It is a type of API (Application Programming Interface) that allows communication between different systems over the internet. REST APIs work by sending requests and receiving responses, typically in JSON format, between the client and server.\n",
        "\n",
        ">REST APIs use HTTP methods (such as GET, POST, PUT, DELETE) to define actions that can be performed on resources. These methods align with CRUD (Create, Read, Update, Delete) operations, which are used to manipulate resources over the web."
      ],
      "metadata": {
        "id": "Piqy-muOERre"
      }
    },
    {
      "cell_type": "markdown",
      "source": [
        "Q-2 : Explain the concept of API specification.\n",
        "\n",
        ">An API specification is a formal document that details how an API functions, including its operations, endpoints, request/response structures, and data formats. It acts as a blueprint for developers, ensuring consistency and facilitating proper usage and integration of the API. Essentially, it's a machine-readable description of an API's behavior."
      ],
      "metadata": {
        "id": "JjfjeqgU3HA8"
      }
    },
    {
      "cell_type": "markdown",
      "source": [
        "Q-3 :  What is Flask, and why is it popular for building APIs?\n",
        "\n",
        ">Flask is a popular Python web framework, often described as a \"microframework\" due to its minimalist design, which allows developers to build web applications and APIs with flexibility and control. Its popularity for API development stems from its lightweight nature, extensive library support, and Pythonic structure, making it easy to learn, customize, and deploy."
      ],
      "metadata": {
        "id": "9qUwd_6G3VuW"
      }
    },
    {
      "cell_type": "markdown",
      "source": [
        "Q-4 : What is routing in Flask?\n",
        "\n",
        ">Routing in Flask is the mechanism that maps specific URL patterns to Python functions (known as \"view functions\") within your web application. When a user requests a particular URL, Flask's routing system determines which function should handle that request and return a response.\n"
      ],
      "metadata": {
        "id": "7dpxAtt938e0"
      }
    },
    {
      "cell_type": "code",
      "source": [
        "# Q-5 : How do you create a simple Flask application?\n",
        "\n",
        "pip install flask\n",
        "\n",
        "from flask import Flask\n",
        "\n",
        "app = Flask(__name__)\n",
        "\n",
        "@app.route('/')\n",
        "def home():\n",
        "    return \"Hello, Flask!\"\n",
        "\n",
        "if __name__ == '__main__':\n",
        "    app.run(debug=True)\n"
      ],
      "metadata": {
        "id": "sXGau7jw5ui6"
      },
      "execution_count": null,
      "outputs": []
    },
    {
      "cell_type": "markdown",
      "source": [
        "Q-6 :  What are HTTP methods used in RESTful APIs?\n",
        "\n",
        ">In a REST API, the most commonly used HTTP methods are GET, POST, PUT, PATCH, and DELETE. These methods correspond to the CRUD (Create, Read, Update, Delete) operations that are fundamental to managing resources in a RESTful architecture.\n",
        "\n",
        "Here's a breakdown of each method :\n",
        "\n",
        "* GET: Used to retrieve data from the server.\n",
        "\n",
        "* POST: Used to create a new resource on the server.\n",
        "\n",
        "* PUT: Used to update an existing resource, replacing the entire resource with the data provided.\n",
        "\n",
        "* PATCH: Used to partially update an existing resource, modifying only the specified fields.\n",
        "\n",
        "* DELETE: Used to remove a resource from the server."
      ],
      "metadata": {
        "id": "hSctnp6j4pwf"
      }
    },
    {
      "cell_type": "markdown",
      "source": [
        "Q-7 :  What is the purpose of the @app.route() decorator in Flask?\n",
        "\n",
        ">The @app.route() decorator in Flask serves the purpose of associating a URL path with a specific Python function, known as a view function. This process is called URL routing.\n",
        "\n",
        ">When a client's web browser or application sends a request to a particular URL, Flask uses the @app.route() decorator to identify which Python function should be executed to handle that request. The decorated function then processes the request and returns a response, which is sent back to the client.\n",
        "\n",
        ">In essence, @app.route() acts as a bridge between a web-accessible URL and the Python code that handles the logic for that URL, allowing for the creation of well-defined and accessible web application endpoints. It can also be used to define dynamic routes with variable parts in the URL and specify accepted HTTP methods (e.g., GET, POST)."
      ],
      "metadata": {
        "id": "COij_bF842m_"
      }
    },
    {
      "cell_type": "markdown",
      "source": [
        "Q-8 : What is the difference between GET and POST HTTP methods?\n",
        "\n",
        ">The main difference between GET and POST HTTP methods lies in how they send data to the server and their intended use. GET requests append data to the URL, making it visible, while POST requests send data in the request body, keeping it hidden. GET is primarily used for retrieving data, while POST is used for sending data, especially when modifying resources or submitting forms.\n",
        "\n",
        "In essence:\n",
        "\n",
        "* GET = Read (Retrieve data):\n",
        "\n",
        "Think of it as looking at a product catalog. You're retrieving information, and the URL shows what you're looking at.\n",
        "\n",
        "* POST = Write (Modify data or create new data):\n",
        "\n",
        "Think of it as submitting an order form. You're sending information to the server to create or modify something."
      ],
      "metadata": {
        "id": "OVE_wTUK5MW9"
      }
    },
    {
      "cell_type": "code",
      "source": [
        "# Q-9 : How do you handle errors in Flask APIs?\n",
        "\n",
        "from flask import Flask, jsonify\n",
        "\n",
        "app = Flask(__name__)\n",
        "\n",
        "@app.errorhandler(404)\n",
        "def not_found_error(e):\n",
        "    return jsonify(error='Resource not found'), 404\n",
        "\n",
        "@app.errorhandler(500)\n",
        "def internal_error(e):\n",
        "    return jsonify(error='Internal server error'), 500\n",
        "\n",
        "\n",
        "@app.errorhandler(Exception)\n",
        "def handle_exception(e):\n",
        "    return jsonify(error=str(e)), 500\n",
        "\n",
        "\n",
        "@app.route('/divide')\n",
        "def divide():\n",
        "    try:\n",
        "        result = 10 / 0\n",
        "        return jsonify(result=result)\n",
        "    except ZeroDivisionError:\n",
        "        return jsonify(error='Division by zero is not allowed'), 400\n",
        "\n",
        "\n",
        "class InvalidUsage(Exception):\n",
        "    def __init__(self, message, status_code=400):\n",
        "        self.message = message\n",
        "        self.status_code = status_code\n",
        "\n",
        "@app.errorhandler(InvalidUsage)\n",
        "def handle_invalid_usage(error):\n",
        "    return jsonify(error=error.message), error.status_code\n",
        "\n",
        "\n",
        "import logging\n",
        "\n",
        "@app.errorhandler(Exception)\n",
        "def handle_exception(e):\n",
        "    app.logger.error(f\"Unhandled exception: {e}\")\n",
        "    return jsonify(error='An unexpected error occurred'), 500\n",
        "\n"
      ],
      "metadata": {
        "id": "MK1_E_jN67fi"
      },
      "execution_count": null,
      "outputs": []
    },
    {
      "cell_type": "code",
      "source": [
        "# Q-10 :  How do you connect Flask to a SQL database?\n",
        "\n",
        "from flask import Flask, jsonify\n",
        "from flask_sqlalchemy import SQLAlchemy\n",
        "\n",
        "app = Flask(__name__)\n",
        "app.config['SQLALCHEMY_DATABASE_URI'] = 'sqlite:///users.db'\n",
        "app.config['SQLALCHEMY_TRACK_MODIFICATIONS'] = False\n",
        "db = SQLAlchemy(app)\n",
        "\n",
        "class User(db.Model):\n",
        "    id = db.Column(db.Integer, primary_key=True)\n",
        "    name = db.Column(db.String(50))\n",
        "    email = db.Column(db.String(120), unique=True)\n",
        "\n",
        "@app.route('/')\n",
        "def home():\n",
        "    return \"Flask SQL Connection is working!\"\n",
        "\n",
        "@app.route('/add')\n",
        "def add_user():\n",
        "    user = User(name='Alice', email='alice@example.com')\n",
        "    db.session.add(user)\n",
        "    db.session.commit()\n",
        "    return jsonify(message=\"User added successfully!\")\n",
        "\n",
        "if __name__ == '__main__':\n",
        "    with app.app_context():\n",
        "        db.create_all()\n",
        "    app.run(debug=True)\n"
      ],
      "metadata": {
        "id": "5zP3mOT27tS7"
      },
      "execution_count": null,
      "outputs": []
    },
    {
      "cell_type": "markdown",
      "source": [
        "Q-11 : What is the role of Flask-SQLAlchemy?\n",
        "\n",
        ">Flask-SQLAlchemy is a Flask extension that makes using SQLAlchemy with Flask easier, providing you tools and methods to interact with your database in your Flask applications through SQLAlchemy."
      ],
      "metadata": {
        "id": "HFeIi9YP5xQU"
      }
    },
    {
      "cell_type": "markdown",
      "source": [
        "Q-12 : What are Flask blueprints, and how are they useful?\n",
        "\n",
        ">Blueprints in Flask help you organize your application into modular, reusable components. They let you group related routes, templates, and static files together, which is especially useful for large projects. With blueprints, you can develop, test, and maintain different parts of your app separately, and then register them with your main application."
      ],
      "metadata": {
        "id": "mDUWBkJg51i8"
      }
    },
    {
      "cell_type": "markdown",
      "source": [
        "Q-13 : What is the purpose of Flask's request object?\n",
        "\n",
        ">The purpose of Flask's request object is to provide access to all incoming HTTP request data within a Flask application. When a client sends a request to a Flask server, Flask automatically creates a request object that encapsulates all the details of that specific request."
      ],
      "metadata": {
        "id": "0a5-QVVf5-dk"
      }
    },
    {
      "cell_type": "code",
      "source": [
        "# Q-14 :  How do you create a RESTful API endpoint using Flask?\n",
        "\n",
        "from flask import Flask, jsonify, request\n",
        "\n",
        "app = Flask(__name__)\n",
        "\n",
        "# In-memory 'database' for demo\n",
        "users = [\n",
        "    {\"id\": 1, \"name\": \"Alice\"},\n",
        "    {\"id\": 2, \"name\": \"Bob\"}\n",
        "]\n",
        "\n",
        "#  GET: Read all users\n",
        "@app.route('/users', methods=['GET'])\n",
        "def get_users():\n",
        "    return jsonify(users)\n",
        "\n",
        "#  GET: Read single user by ID\n",
        "@app.route('/users/<int:user_id>', methods=['GET'])\n",
        "def get_user(user_id):\n",
        "    user = next((u for u in users if u[\"id\"] == user_id), None)\n",
        "    if user:\n",
        "        return jsonify(user)\n",
        "    return jsonify({\"error\": \"User not found\"}), 404\n",
        "\n",
        "#  POST: Create a new user\n",
        "@app.route('/users', methods=['POST'])\n",
        "def create_user():\n",
        "    data = request.get_json()\n",
        "    new_user = {\"id\": len(users) + 1, \"name\": data[\"name\"]}\n",
        "    users.append(new_user)\n",
        "    return jsonify(new_user), 201\n",
        "\n",
        "#  PUT: Update an existing user\n",
        "@app.route('/users/<int:user_id>', methods=['PUT'])\n",
        "def update_user(user_id):\n",
        "    data = request.get_json()\n",
        "    user = next((u for u in users if u[\"id\"] == user_id), None)\n",
        "    if user:\n",
        "        user[\"name\"] = data[\"name\"]\n",
        "        return jsonify(user)\n",
        "    return jsonify({\"error\": \"User not found\"}), 404\n",
        "\n",
        "#  DELETE: Delete a user\n",
        "@app.route('/users/<int:user_id>', methods=['DELETE'])\n",
        "def delete_user(user_id):\n",
        "    global users\n",
        "    users = [u for u in users if u[\"id\"] != user_id]\n",
        "    return jsonify({\"message\": \"User deleted\"}), 200\n",
        "\n",
        "# Run the app\n",
        "if __name__ == '__main__':\n",
        "    app.run(debug=True)\n"
      ],
      "metadata": {
        "id": "XfVQa1WL8LOK"
      },
      "execution_count": null,
      "outputs": []
    },
    {
      "cell_type": "markdown",
      "source": [
        "Q-15 :What is the purpose of Flask's jsonify() function?\n",
        "\n",
        ">Flask's jsonify() function serves the purpose of simplifying the creation of JSON responses in web applications built with Flask.\n",
        "\n",
        ">jsonify() streamlines the process of building RESTful APIs and handling AJAX requests by providing a convenient and efficient way to send JSON data from the server to the client. It handles the underlying details of JSON serialization and header management, allowing developers to focus on the data itself."
      ],
      "metadata": {
        "id": "DFyd7EDa6QfN"
      }
    },
    {
      "cell_type": "markdown",
      "source": [
        "Q-16 : Explain Flask’s url_for() function.\n",
        "\n",
        ">The url_for() method, is used to prepare a URL, for a function dynamically, such that, changing URLs, in the application, is avoided. It accepts, the name of the view function, as the first argument, and, any number of keywords, to be sent(to the view function), as the second argument.\n",
        "\n",
        ">At times we need to restructure, the URLs of our application, based on user data. The url_for() function, makes it easy. Hence we need not hardcode the values here.\n",
        "\n",
        ">The paths generated by url_for(), are always absolute.\n",
        "It efficiently handles the escaping of special characters.\n",
        "\n",
        ">Url_for() allows us, to modify the routes, and, assure the smooth working of the app links."
      ],
      "metadata": {
        "id": "UoNJmeyF_t0P"
      }
    },
    {
      "cell_type": "markdown",
      "source": [
        "Q-17 : How does Flask handle static files (CSS, JavaScript, etc?\n",
        "\n",
        ">Flask provides a straightforward mechanism for handling static files such as CSS stylesheets, JavaScript files, images, and other assets that do not change dynamically.\n",
        "\n",
        "1. Static Folder Structure:\n",
        "By default, Flask expects static files to reside in a folder named static located in the root directory of your Flask application.\n",
        "Within this static folder, you can organize your files further into subdirectories (e.g., static/css, static/js, static/images).\n",
        "2. Referencing Static Files in Templates:\n",
        "To link static files within your HTML templates, you utilize Flask's url_for() function.\n",
        "3. url_for() takes two arguments:\n",
        "The endpoint name, which is 'static' for static files.\n",
        "The filename argument, which specifies the path to the static file relative to the static folder."
      ],
      "metadata": {
        "id": "Z577DqSU_-jo"
      }
    },
    {
      "cell_type": "markdown",
      "source": [
        "Q-18 :  What is an API specification, and how does it help in building a Flask API?\n",
        "\n",
        "An API specification is a formal, machine-readable document that comprehensively describes the design and expected behavior of an API. It acts as a blueprint, detailing endpoints, data models, request and response formats, authentication methods, and error handling. The OpenAPI Specification (formerly Swagger) is a widely used example.\n",
        "\n",
        "How it helps in building a Flask API:\n",
        "1. Clear Communication and Collaboration:\n",
        "A specification provides a single source of truth for developers, front-end engineers, and other stakeholders, ensuring everyone understands the API's capabilities and how to interact with it.\n",
        "2. Automated Documentation Generation:\n",
        "Tools like Flask-RESTX or APIFlask can leverage an OpenAPI specification to automatically generate interactive API documentation (e.g., Swagger UI), making it easy for consumers to explore and test the API.\n",
        "3. Code Generation:\n",
        "Specifications can be used to generate client-side code (SDKs) in various programming languages, streamlining integration for API consumers. They can also assist in generating server-side boilerplate code in Flask, reducing manual effort.\n",
        "4. Validation and Testing:\n",
        "The defined schemas and data types in the specification enable automated validation of requests and responses, catching errors early in the development cycle. It also facilitates the creation of robust automated tests for the API.\n",
        "5. Consistency and Standardization:\n",
        "By adhering to a specification, developers ensure consistency in API design, promoting better maintainability and scalability for the Flask application.\n",
        "\n",
        "In essence, an API specification provides a structured approach to API development, leading to better-designed, more maintainable, and easier-to-consume Flask APIs."
      ],
      "metadata": {
        "id": "JF-BJtRWAPkn"
      }
    },
    {
      "cell_type": "markdown",
      "source": [
        "Q-19 :  What are HTTP status codes, and why are they important in a Flask API?\n",
        "\n",
        "HTTP status codes are three-digit numbers returned by a server in response to an HTTP request, indicating the outcome of the requested operation. They provide standardized feedback to clients about the status of their requests. These codes are categorized into five classes based on their first digit:\n",
        "1. 1xx (Informational):\n",
        "Indicates that the request was received and the process is continuing.\n",
        "2. 2xx (Success):\n",
        "Signifies that the request was successfully received, understood, and accepted. Common examples include 200 OK (general success) and 201 Created (resource successfully created).\n",
        "3. 3xx (Redirection):\n",
        "Indicates that further action needs to be taken by the client to complete the request, often involving redirection to a different URL.\n",
        "4. 4xx (Client Error):\n",
        "Points to an error originating from the client's side, such as an invalid request or a missing resource. 404 Not Found and 400 Bad Request are common examples.\n",
        "5. 5xx (Server Error):\n",
        "Indicates an error on the server's side, preventing it from fulfilling a valid request. 500 Internal Server Error is a frequent occurrence.\n",
        "\n",
        "HTTP status codes are essential for REST-based APIs, as they provide a standard way of communication between the server and the client and handle errors.\n",
        "HTTP status codes play a crucial role in REST-based APIs.\n",
        "These codes, which are three-digit numbers returned by a server in response to an HTTP request, indicate the status of the requested operation and provide important information about how the client should proceed."
      ],
      "metadata": {
        "id": "3e4eGavhAdYv"
      }
    },
    {
      "cell_type": "code",
      "source": [
        "# Q-20 :  How do you handle POST requests in Flask?\n",
        "\n",
        "from flask import Flask, request, jsonify\n",
        "\n",
        "app = Flask(__name__)\n",
        "\n",
        "@app.route('/add-user', methods=['POST'])\n",
        "def add_user():\n",
        "    data = request.get_json()\n",
        "    name = data.get('name')\n",
        "    email = data.get('email')\n",
        "\n",
        "    if not name or not email:\n",
        "        return jsonify(error=\"Name and email are required\"), 400\n",
        "\n",
        "    return jsonify(message=\"User added\", name=name, email=email), 201\n",
        "\n",
        "if __name__ == '__main__':\n",
        "    app.run(debug=True)\n"
      ],
      "metadata": {
        "id": "wZ9v46-G8vXi"
      },
      "execution_count": null,
      "outputs": []
    },
    {
      "cell_type": "markdown",
      "source": [
        "Q-21 : How would you secure a Flask API?\n",
        "\n",
        "Securing a Flask API involves implementing various measures to protect against common vulnerabilities and ensure data integrity and confidentiality.\n",
        "1. Authentication and Authorization:\n",
        "Token-Based Authentication:\n",
        "Implement systems like JWT (JSON Web Tokens) or OAuth2 to authenticate users and issue tokens. These tokens are then sent with each API request for validation, ensuring only authorized users can access specific endpoints.\n",
        "Role-Based Access Control (RBAC):\n",
        "Define roles and assign permissions based on these roles, restricting access to API endpoints or functionalities according to the user's assigned role.\n",
        "2. Input Validation and Sanitization:\n",
        "Validate User Input:\n",
        "Thoroughly validate all incoming user input to prevent common attacks like SQL injection, NoSQL injection, and Cross-Site Scripting (XSS).\n",
        "Sanitize Data:\n",
        "Cleanse user input by removing or escaping potentially malicious characters before using it in queries or displaying it on the client-side.\n",
        "3. Secure Communication:\n",
        "HTTPS/SSL/TLS: Always use HTTPS to encrypt data in transit, protecting sensitive information from eavesdropping and Man-in-the-Middle (MITM) attacks.\n",
        "4. Protection Against Common Attacks:\n",
        "CSRF Protection:\n",
        "Implement Cross-Site Request Forgery (CSRF) protection using CSRF tokens to prevent malicious websites from tricking users into making unintended requests.\n",
        "Rate Limiting:\n",
        "Implement rate limiting to prevent brute-force attacks on authentication endpoints and to mitigate Denial-of-Service (DoS) attacks.\n",
        "Secure HTTP Headers:\n",
        "Set appropriate security headers (e.g., Content-Security-Policy, X-Content-Type-Options, X-Frame-Options) to enhance security and mitigate various client-side attacks.\n",
        "5. Secure Configuration and Operations:\n",
        "Disable Debug Mode in Production:\n",
        "Ensure Flask's debug mode is set to False in production environments to prevent the exposure of sensitive information and potential vulnerabilities.\n",
        "Secure Sensitive Data:\n",
        "Never hardcode sensitive information like database credentials or API keys directly in the code. Use environment variables or secure configuration management tools.\n",
        "Logging and Monitoring:\n",
        "Implement robust logging to track API access, errors, and potential security incidents, and monitor these logs for anomalies.\n",
        "Regular Security Audits:\n",
        "Conduct regular security audits and penetration testing to identify and address potential vulnerabilities."
      ],
      "metadata": {
        "id": "9sKt-DUv3xjR"
      }
    },
    {
      "cell_type": "markdown",
      "source": [
        "Q-22 : What is the significance of the Flask-RESTful extension?\n",
        "\n",
        ">Flask-RESTful is a Flask extension that simplifies the development of REST APIs by providing a structured way to define resources and handle HTTP methods, request parsing, and response formatting. It enhances Flask's capabilities for building robust and scalable web APIs.\n",
        "Flask-RESTful significantly reduces boilerplate code and complexity when building REST APIs with Flask, making it a popular choice for developers."
      ],
      "metadata": {
        "id": "GEoSunn_37Qo"
      }
    },
    {
      "cell_type": "markdown",
      "source": [
        "Q-23 : What is the role of Flask’s session object?\n",
        "\n",
        ">In Flask, the session object provides a way to store user-specific data across multiple requests, enabling features like user authentication, shopping carts, and personalized settings. It acts like a dictionary, storing data on the server-side and making it accessible throughout a user's interaction with the application."
      ],
      "metadata": {
        "id": "ZsC3UJQT4DZ5"
      }
    },
    {
      "cell_type": "markdown",
      "source": [
        "# Practical"
      ],
      "metadata": {
        "id": "-rRsEMiWEBIu"
      }
    },
    {
      "cell_type": "code",
      "source": [
        "# Q-1 :  How do you create a basic Flask application?\n",
        "\n",
        "from flask import Flask\n",
        "\n",
        "app = Flask(__name__)\n",
        "\n",
        "@app.route('/')\n",
        "def home():\n",
        "    return 'Hello, Flask!'\n",
        "\n",
        "if __name__ == '__main__':\n",
        "    app.run(debug=True)\n",
        "\n"
      ],
      "metadata": {
        "id": "gvGkQgIoCrdW",
        "colab": {
          "base_uri": "https://localhost:8080/"
        },
        "outputId": "7c3c1c01-4848-40b7-d8dc-20d209cf1a78"
      },
      "execution_count": null,
      "outputs": [
        {
          "output_type": "stream",
          "name": "stdout",
          "text": [
            " * Serving Flask app '__main__'\n",
            " * Debug mode: on\n"
          ]
        },
        {
          "output_type": "stream",
          "name": "stderr",
          "text": [
            "INFO:werkzeug:\u001b[31m\u001b[1mWARNING: This is a development server. Do not use it in a production deployment. Use a production WSGI server instead.\u001b[0m\n",
            " * Running on http://127.0.0.1:5000\n",
            "INFO:werkzeug:\u001b[33mPress CTRL+C to quit\u001b[0m\n",
            "INFO:werkzeug: * Restarting with stat\n"
          ]
        }
      ]
    },
    {
      "cell_type": "code",
      "source": [
        "# Q-2 : How do you serve static files like images or CSS in Flask?\n",
        "\n",
        "from flask import Flask, render_template\n",
        "\n",
        "app = Flask(__name__)\n",
        "\n",
        "@app.route('/')\n",
        "def home():\n",
        "    return render_template('index.html')\n",
        "\n",
        "if __name__ == '__main__':\n",
        "    app.run(debug=True)\n"
      ],
      "metadata": {
        "id": "nq8lTPaNC-oP",
        "colab": {
          "base_uri": "https://localhost:8080/"
        },
        "outputId": "7132dfaa-0691-4db1-e7ef-53de639b797f"
      },
      "execution_count": null,
      "outputs": [
        {
          "output_type": "stream",
          "name": "stdout",
          "text": [
            " * Serving Flask app '__main__'\n",
            " * Debug mode: on\n"
          ]
        },
        {
          "output_type": "stream",
          "name": "stderr",
          "text": [
            "INFO:werkzeug:\u001b[31m\u001b[1mWARNING: This is a development server. Do not use it in a production deployment. Use a production WSGI server instead.\u001b[0m\n",
            " * Running on http://127.0.0.1:5000\n",
            "INFO:werkzeug:\u001b[33mPress CTRL+C to quit\u001b[0m\n",
            "INFO:werkzeug: * Restarting with stat\n"
          ]
        }
      ]
    },
    {
      "cell_type": "code",
      "source": [
        "# Q-3 : How do you define different routes with different HTTP methods in Flask?\n",
        "\n",
        "from flask import Flask, request\n",
        "\n",
        "app = Flask(__name__)\n",
        "\n",
        "@app.route('/', methods=['GET'])\n",
        "def home():\n",
        "    return 'This is a GET request'\n",
        "\n",
        "@app.route('/submit', methods=['POST'])\n",
        "def submit():\n",
        "    data = request.form.get('data')  # Get form data\n",
        "    return f'You submitted: {data}'\n"
      ],
      "metadata": {
        "id": "MI5ahoZ9C_M2"
      },
      "execution_count": null,
      "outputs": []
    },
    {
      "cell_type": "code",
      "source": [
        "# Q-4 :  How do you render HTML templates in Flask?\n",
        "\n",
        "from flask import Flask, render_template\n",
        "\n",
        "app = Flask(__name__)\n",
        "\n",
        "@app.route('/')\n",
        "def home():\n",
        "    return render_template('index.html')  # Render HTML from templates folder\n",
        "\n",
        "if __name__ == '__main__':\n",
        "    app.run(debug=True)\n",
        "\n",
        "\n",
        "<!DOCTYPE html>\n",
        "<html>\n",
        "<head>\n",
        "    <title>Flask Template</title>\n",
        "</head>\n",
        "<body>\n",
        "    <h1>Welcome to Flask!</h1>\n",
        "</body>\n",
        "</html>\n"
      ],
      "metadata": {
        "id": "jWtmyNG7C_le"
      },
      "execution_count": null,
      "outputs": []
    },
    {
      "cell_type": "code",
      "source": [
        "# Q-5 :  How can you generate URLs for routes in Flask using url_for?\n",
        "\n",
        "from flask import Flask, url_for\n",
        "\n",
        "app = Flask(__name__)\n",
        "\n",
        "@app.route('/')\n",
        "def home():\n",
        "    return 'Home Page'\n",
        "\n",
        "@app.route('/about')\n",
        "def about():\n",
        "    return 'About Page'\n",
        "\n",
        "@app.route('/go')\n",
        "def go():\n",
        "    return f\"Go to: {url_for('about')}\"\n"
      ],
      "metadata": {
        "id": "8uexmHLtDlIW"
      },
      "execution_count": null,
      "outputs": []
    },
    {
      "cell_type": "code",
      "source": [
        "# Q-6 :  How do you handle forms in Flask?\n",
        "\n",
        "from flask import Flask, render_template, request\n",
        "\n",
        "app = Flask(__name__)\n",
        "\n",
        "@app.route('/', methods=['GET', 'POST'])\n",
        "def form():\n",
        "    if request.method == 'POST':\n",
        "        name = request.form.get('name')\n",
        "        return render_template('result.html', name=name)\n",
        "    return render_template('form.html')\n",
        "\n",
        "if __name__ == '__main__':\n",
        "    app.run(debug=True)\n",
        "\n",
        "\n",
        "<!DOCTYPE html>\n",
        "<html>\n",
        "<head>\n",
        "    <title>Form Example</title>\n",
        "</head>\n",
        "<body>\n",
        "    <h2>Enter Your Name</h2>\n",
        "    <form method=\"POST\">\n",
        "        <input type=\"text\" name=\"name\" placeholder=\"Your name\">\n",
        "        <input type=\"submit\" value=\"Submit\">\n",
        "    </form>\n",
        "</body>\n",
        "</html>\n",
        "\n",
        "\n",
        "<!DOCTYPE html>\n",
        "<html>\n",
        "<head>\n",
        "    <title>Result</title>\n",
        "</head>\n",
        "<body>\n",
        "    <h2>Hello, {{ name }}!</h2>\n",
        "</body>\n",
        "</html>\n"
      ],
      "metadata": {
        "id": "uUzt50FzDlmn"
      },
      "execution_count": null,
      "outputs": []
    },
    {
      "cell_type": "code",
      "source": [
        "# Q-7 : How can you validate form data in Flask?\n",
        "\n",
        "from flask import Flask, render_template, request\n",
        "\n",
        "app = Flask(__name__)\n",
        "\n",
        "@app.route('/', methods=['GET', 'POST'])\n",
        "def form():\n",
        "    error = None\n",
        "    if request.method == 'POST':\n",
        "        name = request.form.get('name')\n",
        "        if not name:\n",
        "            error = \"Name is required.\"\n",
        "        else:\n",
        "            return f\"Hello, {name}!\"\n",
        "    return render_template('form.html', error=error)\n"
      ],
      "metadata": {
        "id": "e1Gwcs58Dlxm"
      },
      "execution_count": null,
      "outputs": []
    },
    {
      "cell_type": "code",
      "source": [
        "# Q-8 :  How do you manage sessions in Flask?\n",
        "\n",
        "from flask import Flask, session, redirect, url_for, request, render_template\n",
        "\n",
        "app = Flask(__name__)\n",
        "app.secret_key = 'your_secret_key'  # Keep this safe!\n",
        "\n",
        "@app.route('/login', methods=['GET', 'POST'])\n",
        "def login():\n",
        "    if request.method == 'POST':\n",
        "        session['username'] = request.form['username']\n",
        "        return redirect(url_for('profile'))\n",
        "    return '''\n",
        "        <form method=\"POST\">\n",
        "            <input type=\"text\" name=\"username\" placeholder=\"Enter name\">\n",
        "            <input type=\"submit\" value=\"Login\">\n",
        "        </form>\n",
        "    '''\n",
        "\n",
        "@app.route('/profile')\n",
        "def profile():\n",
        "    if 'username' in session:\n",
        "        return f\"Welcome, {session['username']}!\"\n",
        "    return redirect(url_for('login'))\n",
        "\n",
        "@app.route('/logout')\n",
        "def logout():\n",
        "    session.pop('username', None)\n",
        "    return redirect(url_for('login'))\n"
      ],
      "metadata": {
        "id": "B498JkigDl9O"
      },
      "execution_count": null,
      "outputs": []
    },
    {
      "cell_type": "code",
      "source": [
        "# Q-9 :  How do you redirect to a different route in Flask?\n",
        "\n",
        "from flask import Flask, redirect, url_for\n",
        "\n",
        "app = Flask(__name__)\n",
        "\n",
        "@app.route('/')\n",
        "def home():\n",
        "    return 'Welcome to the Home Page'\n",
        "\n",
        "@app.route('/redirect-me')\n",
        "def go_somewhere():\n",
        "    return redirect(url_for('home'))\n",
        "\n",
        "\n",
        "from flask import Flask, request, redirect, url_for\n",
        "\n",
        "app = Flask(__name__)\n",
        "\n",
        "@app.route('/login', methods=['GET', 'POST'])\n",
        "def login():\n",
        "    if request.method == 'POST':\n",
        "        # (Normally you would check credentials here)\n",
        "        return redirect(url_for('dashboard'))\n",
        "    return '''\n",
        "        <form method=\"POST\">\n",
        "            <input type=\"submit\" value=\"Login\">\n",
        "        </form>\n",
        "    '''\n",
        "\n",
        "@app.route('/dashboard')\n",
        "def dashboard():\n",
        "    return 'Welcome to the Dashboard!'\n",
        "\n",
        "\n",
        "@app.route('/user/<username>')\n",
        "def user_profile(username):\n",
        "    return f\"User: {username}\"\n",
        "\n",
        "@app.route('/go-to-user')\n",
        "def go_to_user():\n",
        "    return redirect(url_for('user_profile', username='sagar'))\n"
      ],
      "metadata": {
        "id": "f_rnQz7ZDmKO"
      },
      "execution_count": null,
      "outputs": []
    },
    {
      "cell_type": "code",
      "source": [
        "# Q-10 : How do you handle errors in Flask (e.g., 404)?\n",
        "\n",
        "from flask import Flask, render_template\n",
        "\n",
        "app = Flask(__name__)\n",
        "\n",
        "@app.route('/')\n",
        "def home():\n",
        "    return 'Welcome to the Home Page!'\n",
        "\n",
        "#  Handle 404 Not Found\n",
        "@app.errorhandler(404)\n",
        "def page_not_found(e):\n",
        "    return render_template('404.html'), 404\n",
        "\n",
        "#  Handle 500 Internal Server Error\n",
        "@app.errorhandler(500)\n",
        "def internal_error(e):\n",
        "    return render_template('500.html'), 500\n"
      ],
      "metadata": {
        "id": "8iXbR1cmDmZn"
      },
      "execution_count": null,
      "outputs": []
    },
    {
      "cell_type": "code",
      "source": [
        "# Q-11 :How do you structure a Flask app using Blueprints?\n",
        "\n",
        "from flask import Blueprint, render_template\n",
        "\n",
        "main = Blueprint('main', __name__)\n",
        "\n",
        "@main.route('/')\n",
        "def home():\n",
        "    return render_template('home.html')\n"
      ],
      "metadata": {
        "id": "WeRm_jyM5Uqi"
      },
      "execution_count": null,
      "outputs": []
    },
    {
      "cell_type": "code",
      "source": [
        "# Q-12 :  How do you define a custom Jinja filter in Flask?\n",
        "\n",
        "from flask import Flask, render_template\n",
        "\n",
        "app = Flask(__name__)\n",
        "\n",
        "def reverse_string(s):\n",
        "    return s[::-1]\n",
        "\n",
        "app.jinja_env.filters['reverse'] = reverse_string\n",
        "\n",
        "@app.route('/')\n",
        "def home():\n",
        "    return render_template('index.html', message=\"Flask Filters\")\n",
        "\n"
      ],
      "metadata": {
        "id": "l4TBXSXl5VFp"
      },
      "execution_count": null,
      "outputs": []
    },
    {
      "cell_type": "code",
      "source": [
        "# Q-13 :How can you redirect with query parameters in Flask?\n",
        "\n",
        "from flask import Flask, redirect, url_for, request\n",
        "\n",
        "app = Flask(__name__)\n",
        "\n",
        "@app.route('/')\n",
        "def home():\n",
        "    return redirect(url_for('greet', name='Sagar', age=25))\n",
        "\n",
        "@app.route('/greet')\n",
        "def greet():\n",
        "    name = request.args.get('name')\n",
        "    age = request.args.get('age')\n",
        "    return f'Hello, {name}! You are {age} years old.'\n"
      ],
      "metadata": {
        "id": "psMK3iyt5VQY"
      },
      "execution_count": null,
      "outputs": []
    },
    {
      "cell_type": "code",
      "source": [
        "# Q-14 :  How do you return JSON responses in Flask?\n",
        "\n",
        "from flask import Flask, jsonify\n",
        "\n",
        "app = Flask(__name__)\n",
        "\n",
        "@app.route('/api/user')\n",
        "def get_user():\n",
        "    user = {\n",
        "        'id': 1,\n",
        "        'name': 'Sagar',\n",
        "        'email': 'sagar@example.com'\n",
        "    }\n",
        "    return jsonify(user)\n"
      ],
      "metadata": {
        "id": "jLM6BKdd5Vbo"
      },
      "execution_count": null,
      "outputs": []
    },
    {
      "cell_type": "code",
      "source": [
        "# Q-15 :  How do you capture URL parameters in Flask?\n",
        "\n",
        "@app.route('/user/<username>')\n",
        "def show_user(username):\n",
        "    return f'Hello, {username}!'\n",
        "\n",
        "@app.route('/post/<int:post_id>/comment/<int:comment_id>')\n",
        "def show_comment(post_id, comment_id):\n",
        "    return f'Post {post_id}, Comment {comment_id}'\n"
      ],
      "metadata": {
        "id": "WeLT5wn75geY"
      },
      "execution_count": null,
      "outputs": []
    }
  ]
}